{
 "cells": [
  {
   "cell_type": "code",
   "execution_count": 1,
   "metadata": {},
   "outputs": [
    {
     "name": "stdout",
     "output_type": "stream",
     "text": [
      "Collecting youtube-mp3-downloader\n",
      "  Downloading https://files.pythonhosted.org/packages/43/0d/6dcf1712c05a491f114e4dee2baed15a3ead66b6a23246a531041407376c/youtube_mp3_downloader-1.4-py3-none-any.whl\n",
      "Requirement already satisfied: beautifulsoup4>=4.6.0 in /home/jonathan/anaconda3/lib/python3.7/site-packages (from youtube-mp3-downloader) (4.8.0)\n",
      "Requirement already satisfied: requests>=2.18.1 in /home/jonathan/anaconda3/lib/python3.7/site-packages (from youtube-mp3-downloader) (2.23.0)\n",
      "Collecting PrettyTable (from youtube-mp3-downloader)\n",
      "  Downloading https://files.pythonhosted.org/packages/ef/30/4b0746848746ed5941f052479e7c23d2b56d174b82f4fd34a25e389831f5/prettytable-0.7.2.tar.bz2\n",
      "Requirement already satisfied: soupsieve>=1.2 in /home/jonathan/anaconda3/lib/python3.7/site-packages (from beautifulsoup4>=4.6.0->youtube-mp3-downloader) (1.9.3)\n",
      "Requirement already satisfied: urllib3!=1.25.0,!=1.25.1,<1.26,>=1.21.1 in /home/jonathan/anaconda3/lib/python3.7/site-packages (from requests>=2.18.1->youtube-mp3-downloader) (1.25.8)\n",
      "Requirement already satisfied: idna<3,>=2.5 in /home/jonathan/anaconda3/lib/python3.7/site-packages (from requests>=2.18.1->youtube-mp3-downloader) (2.8)\n",
      "Requirement already satisfied: certifi>=2017.4.17 in /home/jonathan/anaconda3/lib/python3.7/site-packages (from requests>=2.18.1->youtube-mp3-downloader) (2020.4.5.1)\n",
      "Requirement already satisfied: chardet<4,>=3.0.2 in /home/jonathan/anaconda3/lib/python3.7/site-packages (from requests>=2.18.1->youtube-mp3-downloader) (3.0.4)\n",
      "Building wheels for collected packages: PrettyTable\n",
      "  Building wheel for PrettyTable (setup.py) ... \u001b[?25ldone\n",
      "\u001b[?25h  Created wheel for PrettyTable: filename=prettytable-0.7.2-cp37-none-any.whl size=13700 sha256=008044306912049768e9ee600fb0c33516f3c39ea2dd88eb4bc02ca31a4f36bf\n",
      "  Stored in directory: /home/jonathan/.cache/pip/wheels/80/34/1c/3967380d9676d162cb59513bd9dc862d0584e045a162095606\n",
      "Successfully built PrettyTable\n",
      "Installing collected packages: PrettyTable, youtube-mp3-downloader\n",
      "Successfully installed PrettyTable-0.7.2 youtube-mp3-downloader-1.4\n"
     ]
    }
   ],
   "source": [
    "!pip install youtube-mp3-downloader\n"
   ]
  },
  {
   "cell_type": "code",
   "execution_count": 2,
   "metadata": {},
   "outputs": [
    {
     "ename": "NameError",
     "evalue": "name 'mp3' is not defined",
     "output_type": "error",
     "traceback": [
      "\u001b[0;31m---------------------------------------------------------------------------\u001b[0m",
      "\u001b[0;31mNameError\u001b[0m                                 Traceback (most recent call last)",
      "\u001b[0;32m<ipython-input-2-82692ec0dc39>\u001b[0m in \u001b[0;36m<module>\u001b[0;34m\u001b[0m\n\u001b[1;32m      1\u001b[0m \u001b[0msong_name\u001b[0m\u001b[0;34m=\u001b[0m\u001b[0;34m'se essa rua fosse minha'\u001b[0m\u001b[0;34m\u001b[0m\u001b[0;34m\u001b[0m\u001b[0m\n\u001b[1;32m      2\u001b[0m \u001b[0;34m\u001b[0m\u001b[0m\n\u001b[0;32m----> 3\u001b[0;31m \u001b[0mmp3\u001b[0m\u001b[0;34m(\u001b[0m\u001b[0msong_name\u001b[0m\u001b[0;34m)\u001b[0m\u001b[0;34m\u001b[0m\u001b[0;34m\u001b[0m\u001b[0m\n\u001b[0m",
      "\u001b[0;31mNameError\u001b[0m: name 'mp3' is not defined"
     ]
    }
   ],
   "source": [
    "song_name='se essa rua fosse minha'\n",
    "\n",
    "mp3(song_name)\n"
   ]
  },
  {
   "cell_type": "code",
   "execution_count": null,
   "metadata": {},
   "outputs": [],
   "source": []
  }
 ],
 "metadata": {
  "kernelspec": {
   "display_name": "Python 3.7.4 64-bit ('anaconda3': virtualenv)",
   "language": "python",
   "name": "python37464bitanaconda3virtualenv9a5bbec6e0ae43108a894095f13ef10a"
  },
  "language_info": {
   "codemirror_mode": {
    "name": "ipython",
    "version": 3
   },
   "file_extension": ".py",
   "mimetype": "text/x-python",
   "name": "python",
   "nbconvert_exporter": "python",
   "pygments_lexer": "ipython3",
   "version": "3.7.4"
  }
 },
 "nbformat": 4,
 "nbformat_minor": 4
}
